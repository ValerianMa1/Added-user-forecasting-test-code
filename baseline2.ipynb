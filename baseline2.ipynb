{
 "cells": [
  {
   "cell_type": "code",
   "execution_count": 8,
   "metadata": {
    "ExecuteTime": {
     "end_time": "2023-08-23T01:46:32.676364100Z",
     "start_time": "2023-08-23T01:46:30.376846300Z"
    }
   },
   "outputs": [],
   "source": [
    "import pandas as pd\n",
    "import numpy as np\n",
    "from sklearn.model_selection import train_test_split\n",
    "from sklearn.metrics import accuracy_score\n",
    "from sklearn.metrics import f1_score\n",
    "from imblearn.over_sampling import SMOTE\n",
    "from sklearn.decomposition import PCA\n",
    "from sklearn.preprocessing import StandardScaler\n",
    "from sklearn.preprocessing import MinMaxScaler\n",
    "\n",
    "train_data = pd.read_csv('train.csv')\n",
    "test_data = pd.read_csv('test.csv')\n",
    "test_uuid = test_data['uuid']\n",
    "train_data['ms'] = train_data['common_ts']\n",
    "test_data['ms'] = test_data['common_ts']\n",
    "# train_data['ms1'] = np.log2(train_data['ms'])\n",
    "# test_data['ms1'] = np.log2(test_data['ms'])\n",
    "# train_data['ms2'] = np.log10(train_data['ms'])\n",
    "# test_data['ms2'] = np.log10(test_data['ms'])\n",
    "train_data['common_ts'] = pd.to_datetime(train_data['common_ts'], unit='ms')\n",
    "test_data['common_ts'] = pd.to_datetime(test_data['common_ts'], unit='ms')\n",
    "# train_data['x7totarget'] = (train_data['x7'] == 1).astype(int)\n",
    "# test_data['x7totarget'] = (test_data['x7'] == 1).astype(int)"
   ]
  },
  {
   "cell_type": "code",
   "execution_count": 9,
   "metadata": {
    "ExecuteTime": {
     "end_time": "2023-08-23T01:46:32.689881600Z",
     "start_time": "2023-08-23T01:46:32.679364200Z"
    }
   },
   "outputs": [],
   "source": [
    "# def udmap_onethot(d):\n",
    "#     v = np.zeros(9)\n",
    "#     if d == 'unknown':\n",
    "#         return v\n",
    "\n",
    "#     d = eval(d)\n",
    "#     for i in range(1, 10):\n",
    "#         if 'key' + str(i) in d:\n",
    "#             v[i-1] = d['key' + str(i)]\n",
    "\n",
    "#     return v\n",
    "\n",
    "# train_udmap_df = pd.DataFrame(np.vstack(train_data['udmap'].apply(udmap_onethot)))\n",
    "# test_udmap_df = pd.DataFrame(np.vstack(test_data['udmap'].apply(udmap_onethot)))\n",
    "\n",
    "# train_udmap_df.columns = ['key' + str(i) for i in range(1, 10)]\n",
    "# test_udmap_df.columns = ['key' + str(i) for i in range(1, 10)]\n",
    "# # test_data['udmap_isunknown'] = (test_data['udmap'] == 'unknown').astype(int)\n",
    "# train_udmap_df = pd.concat([train_udmap_df, (train_data['udmap'] == 'unknown').astype(int)], axis=1)\n",
    "# test_udmap_df = pd.concat([test_udmap_df, (test_data['udmap'] == 'unknown').astype(int)], axis=1)\n",
    "# # 标准化数据\n",
    "# scaler = StandardScaler()\n",
    "# train_udmap_df = scaler.fit_transform(train_udmap_df)\n",
    "# test_udmap_df = scaler.fit_transform(test_udmap_df)\n",
    "# # 应用PCA\n",
    "# pca = PCA(n_components=3)\n",
    "# train_udmap_df = pca.fit_transform(train_udmap_df)\n",
    "# test_udmap_df = pca.fit_transform(test_udmap_df)\n",
    "# # 将PCA结果转为DataFrame并与原始DataFrame结合\n",
    "# train_udmap_df = pd.DataFrame(data=train_udmap_df, columns=['keyPC' + str(i) for i in range(1, 4)])\n",
    "# test_udmap_df = pd.DataFrame(data=test_udmap_df, columns=['keyPC' + str(i) for i in range(1, 4)])"
   ]
  },
  {
   "cell_type": "code",
   "execution_count": null,
   "metadata": {
    "ExecuteTime": {
     "end_time": "2023-08-23T01:46:32.717955Z",
     "start_time": "2023-08-23T01:46:32.692391100Z"
    },
    "collapsed": false
   },
   "outputs": [],
   "source": []
  },
  {
   "cell_type": "code",
   "execution_count": 10,
   "metadata": {
    "ExecuteTime": {
     "end_time": "2023-08-23T01:46:33.228657200Z",
     "start_time": "2023-08-23T01:46:32.707441800Z"
    }
   },
   "outputs": [],
   "source": [
    "from scipy.stats import mode, skew, entropy\n",
    "\n",
    "# train_data = pd.concat([train_data, train_udmap_df], axis=1)\n",
    "# test_data = pd.concat([test_data, test_udmap_df], axis=1)\n",
    "\n",
    "# 计算均值和标准差\n",
    "# train_data['key_mean'] = train_udmap_df[['key' + str(i) for i in range(1, 10)]].mean(axis=1)\n",
    "# train_data['key_std'] = train_udmap_df[['key' + str(i) for i in range(1, 10)]].std(axis=1)\n",
    "# test_data['key_mean'] = test_udmap_df[['key' + str(i) for i in range(1, 10)]].mean(axis=1)\n",
    "# test_data['key_std'] = test_udmap_df[['key' + str(i) for i in range(1, 10)]].std(axis=1)\n",
    "\n",
    "# train_data['key_median'] = train_udmap_df[['key' + str(i) for i in range(1, 10)]].median(axis=1)\n",
    "# train_data['key_mode'] = train_udmap_df[['key' + str(i) for i in range(1, 10)]].apply(lambda row: mode(row)[0][0], axis=1)\n",
    "# test_data['key_median'] = test_udmap_df[['key' + str(i) for i in range(1, 10)]].median(axis=1)\n",
    "# test_data['key_mode'] = test_udmap_df[['key' + str(i) for i in range(1, 10)]].apply(lambda row: mode(row)[0][0], axis=1)\n",
    "# train_data['key_Q1'] = train_udmap_df[['key' + str(i) for i in range(1, 10)]].quantile(0.25, axis=1)\n",
    "# test_data['key_Q1'] = test_udmap_df[['key' + str(i) for i in range(1, 10)]].quantile(0.25, axis=1)\n",
    "# train_data['key_Q3'] = train_udmap_df[['key' + str(i) for i in range(1, 10)]].quantile(0.75, axis=1)\n",
    "# test_data['key_Q3'] = test_udmap_df[['key' + str(i) for i in range(1, 10)]].quantile(0.75, axis=1)\n",
    "# train_data['key_skew'] = train_udmap_df[['key' + str(i) for i in range(1, 10)]].skew(axis=1)\n",
    "# test_data['key_skew'] = test_udmap_df[['key' + str(i) for i in range(1, 10)]].skew(axis=1)\n",
    "# train_data['key_entropy'] = train_udmap_df[['key' + str(i) for i in range(1, 10)]].apply(lambda row: entropy(row.value_counts(normalize=True)), axis=1)\n",
    "# test_data['key_entropy'] = test_udmap_df[['key' + str(i) for i in range(1, 10)]].apply(lambda row: entropy(row.value_counts(normalize=True)), axis=1)\n",
    "\n",
    "# train_data['key_max'] = train_udmap_df[['key' + str(i) for i in range(1, 10)]].max(axis=1)\n",
    "# test_data['key_max'] = test_udmap_df[['key' + str(i) for i in range(1, 10)]].max(axis=1)\n",
    "# train_data['key_min'] = train_udmap_df[['key' + str(i) for i in range(1, 10)]].min(axis=1)\n",
    "# test_data['key_min'] = test_udmap_df[['key' + str(i) for i in range(1, 10)]].min(axis=1)\n",
    "# train_data['key_range'] = train_data['key_max'] - train_data['key_min']\n",
    "# test_data['key_range'] = test_data['key_max'] - test_data['key_min']\n",
    "# # 变异系数 (使用标准差和均值)\n",
    "# train_data['key_CV'] = train_data['key_std'] / train_data['key_mean']\n",
    "# test_data['key_CV'] = test_data['key_std'] / test_data['key_mean']\n",
    "x_list = ['x' + str(i) for i in range(1, 9)]\n",
    "x_list.remove('x3')\n",
    "# x_list.remove('x2')\n",
    "# x_list.remove('x6')\n",
    "# x_list.remove('x8')\n",
    "train_data['x_mean'] = train_data[x_list].mean(axis=1)\n",
    "train_data['x_std'] = train_data[x_list].std(axis=1)\n",
    "test_data['x_mean'] = test_data[x_list].mean(axis=1)\n",
    "test_data['x_std'] = test_data[x_list].std(axis=1)\n",
    "\n",
    "# train_data['x_median'] = train_data[['x' + str(i) for i in range(1, 9)]].median(axis=1)\n",
    "# train_data['x_mode'] = train_data[['x' + str(i) for i in range(1, 9)]].apply(lambda row: mode(row)[0][0], axis=1)\n",
    "# test_data['x_median'] = test_data[['x' + str(i) for i in range(1, 9)]].median(axis=1)\n",
    "# test_data['x_mode'] = test_data[['x' + str(i) for i in range(1, 9)]].apply(lambda row: mode(row)[0][0], axis=1)\n",
    "train_data['x_Q1'] = train_data[x_list].quantile(0.25, axis=1)\n",
    "test_data['x_Q1'] = test_data[x_list].quantile(0.25, axis=1)\n",
    "train_data['x_Q3'] = train_data[x_list].quantile(0.75, axis=1)\n",
    "test_data['x_Q3'] = test_data[x_list].quantile(0.75, axis=1)\n",
    "train_data['x_skew'] = train_data[x_list].skew(axis=1)\n",
    "test_data['x_skew'] = test_data[x_list].skew(axis=1)\n",
    "# train_data['x_entropy'] = train_data[['x' + str(i) for i in range(1, 9)]].apply(lambda row: entropy(row.value_counts(normalize=True)), axis=1)\n",
    "# test_data['x_entropy'] = test_data[['x' + str(i) for i in range(1, 9)]].apply(lambda row: entropy(row.value_counts(normalize=True)), axis=1)\n",
    "# train_data['x_max'] = train_data[['x' + str(i) for i in range(1, 9)]].max(axis=1)\n",
    "# test_data['x_max'] = test_data[['x' + str(i) for i in range(1, 9)]].max(axis=1)\n",
    "# train_data['x_min'] = train_data[['x' + str(i) for i in range(1, 9)]].min(axis=1)\n",
    "# test_data['x_min'] = test_data[['x' + str(i) for i in range(1, 9)]].min(axis=1)\n",
    "# train_data['x_range'] = train_data['x_max'] - train_data['x_min']\n",
    "# test_data['x_range'] = test_data['x_max'] - test_data['x_min']\n",
    "# 变异系数 (使用标准差和均值)\n",
    "train_data['x_CV'] = train_data['x_std'] / train_data['x_mean']\n",
    "test_data['x_CV'] = test_data['x_std'] / test_data['x_mean']\n",
    "# train_data = train_data.drop(['x' + str(i) for i in range(6, 9)], axis=1)\n",
    "# test_data = test_data.drop(['x' + str(i) for i in range(6, 9)], axis=1)\n",
    "# train_data = train_data.drop(['key6', 'key7', 'key8', 'key9'], axis=1)\n",
    "# test_data = test_data.drop(['key6', 'key7', 'key8', 'key9'], axis=1)\n",
    "# 初始化归一化器\n",
    "# scaler = MinMaxScaler()\n",
    "# 对这些列进行归一化\n",
    "# train_data[x_list] = scaler.fit_transform(train_data[x_list])\n",
    "# test_data[x_list] = scaler.fit_transform(test_data[x_list])\n"
   ]
  },
  {
   "cell_type": "code",
   "execution_count": 11,
   "metadata": {
    "ExecuteTime": {
     "end_time": "2023-08-23T01:46:33.244189700Z",
     "start_time": "2023-08-23T01:46:33.222219200Z"
    }
   },
   "outputs": [],
   "source": [
    "# # 标准化数据\n",
    "# scaler = StandardScaler()\n",
    "# train_x = scaler.fit_transform(train_data[['x' + str(i) for i in range(1, 6)]])\n",
    "# test_x = scaler.fit_transform(test_data[['x' + str(i) for i in range(1, 6)]])\n",
    "# # 应用PCA\n",
    "# n_components = 1\n",
    "# pca = PCA(n_components=n_components)\n",
    "# train_x = pca.fit_transform(train_x)\n",
    "# test_x = pca.fit_transform(test_x)\n",
    "# # 将PCA结果转为DataFrame并与原始DataFrame结合\n",
    "# train_x = pd.DataFrame(data=train_x, columns=['xPC' + str(i) for i in range(1, n_components+1)])\n",
    "# test_x = pd.DataFrame(data=test_x, columns=['xPC' + str(i) for i in range(1, n_components+1)])\n",
    "# # train_data = train_data.drop(['x' + str(i) for i in range(1, 9)], axis=1)\n",
    "# # test_data = test_data.drop(['x' + str(i) for i in range(1, 9)], axis=1)\n",
    "# train_data = pd.concat([train_data, train_x], axis=1)\n",
    "# test_data = pd.concat([test_data, test_x], axis=1)"
   ]
  },
  {
   "cell_type": "code",
   "execution_count": 12,
   "metadata": {
    "ExecuteTime": {
     "end_time": "2023-08-23T01:46:33.339088700Z",
     "start_time": "2023-08-23T01:46:33.259262500Z"
    }
   },
   "outputs": [],
   "source": [
    "# train_data['eid_freq'] = train_data['eid'].map(train_data['eid'].value_counts())\n",
    "# test_data['eid_freq'] = test_data['eid'].map(train_data['eid'].value_counts())\n",
    "\n",
    "# train_data['eid_mean'] = train_data['eid'].map(train_data.groupby('eid')['target'].mean())\n",
    "# test_data['eid_mean'] = test_data['eid'].map(train_data.groupby('eid')['target'].mean())\n",
    "# train_data['eid_std'] = train_data['eid'].map(train_data.groupby('eid')['target'].std())\n",
    "# test_data['eid_std'] = test_data['eid'].map(train_data.groupby('eid')['target'].std())\n",
    "# train_data['eid_skew'] = train_data['eid'].map(train_data.groupby('eid')['target'].skew())\n",
    "# test_data['eid_skew'] = test_data['eid'].map(train_data.groupby('eid')['target'].skew())\n",
    "# train_data['eid_Q1'] = train_data['eid'].map(train_data.groupby('eid')['target'].quantile(0.25))\n",
    "# test_data['eid_Q1'] = test_data['eid'].map(train_data.groupby('eid')['target'].quantile(0.25))\n",
    "# train_data['eid_Q3'] = train_data['eid'].map(train_data.groupby('eid')['target'].quantile(0.75))\n",
    "# test_data['eid_Q3'] = test_data['eid'].map(train_data.groupby('eid')['target'].quantile(0.75))\n",
    "# train_data['eid_entropy'] = train_data['eid'].map(train_data.groupby('eid')['target'].apply(lambda row: entropy(row.value_counts(normalize=True))))\n",
    "# test_data['eid_entropy'] = test_data['eid'].map(train_data.groupby('eid')['target'].apply(lambda row: entropy(row.value_counts(normalize=True))))\n",
    "train_data = train_data.drop('eid', axis=1)\n",
    "test_data = test_data.drop('eid', axis=1)\n"
   ]
  },
  {
   "cell_type": "code",
   "execution_count": null,
   "metadata": {
    "ExecuteTime": {
     "end_time": "2023-08-23T01:46:33.340088200Z",
     "start_time": "2023-08-23T01:46:33.300034Z"
    }
   },
   "outputs": [],
   "source": []
  },
  {
   "cell_type": "code",
   "execution_count": 13,
   "metadata": {
    "ExecuteTime": {
     "end_time": "2023-08-23T01:46:33.675349Z",
     "start_time": "2023-08-23T01:46:33.317060900Z"
    }
   },
   "outputs": [],
   "source": [
    "train_data['common_ts_weekday'] = train_data['common_ts'].dt.weekday\n",
    "# for i in range(6):\n",
    "#     train_data[f'common_isday{i+1}'] = (train_data['common_ts'].dt.weekday == i).astype(int)\n",
    "# train_data['common_isMonday'] = (train_data['common_ts'].dt.weekday == 0).astype(int)\n",
    "# train_data['common_isThursday'] = (train_data['common_ts'].dt.weekday == 3).astype(int)\n",
    "train_data['common_ts_day'] = train_data['common_ts'].dt.day\n",
    "train_data['common_ts_hour'] = train_data['common_ts'].dt.hour\n",
    "# train_data['common_ts_minute'] = train_data['common_ts'].dt.minute\n",
    "# train_data['common_ts_second'] = train_data['common_ts'].dt.second\n",
    "test_data['common_ts_weekday'] = test_data['common_ts'].dt.weekday\n",
    "# for i in range(6):\n",
    "#     test_data[f'common_isday{i+1}'] = (test_data['common_ts'].dt.weekday == i).astype(int)\n",
    "# test_data['common_isMonday'] = (test_data['common_ts'].dt.weekday == 0).astype(int)\n",
    "# test_data['common_isThursday'] = (test_data['common_ts'].dt.weekday == 3).astype(int)\n",
    "test_data['common_ts_day'] = test_data['common_ts'].dt.day\n",
    "test_data['common_ts_hour'] = test_data['common_ts'].dt.hour\n",
    "# test_data['common_ts_minute'] = test_data['common_ts'].dt.minute\n",
    "# test_data['common_ts_second'] = test_data['common_ts'].dt.second\n",
    "train_data = train_data.drop(['udmap', 'common_ts', 'uuid', 'x3'], axis=1)\n",
    "test_data = test_data.drop(['udmap', 'common_ts', 'uuid', 'x3'], axis=1)\n",
    "# 对这些列进行归一化\n",
    "# train_data[train_data.columns] = scaler.fit_transform(train_data[train_data.columns])\n",
    "# test_data[test_data.columns] = scaler.fit_transform(test_data[test_data.columns])\n",
    "# train_data.fillna(0, inplace=True)\n",
    "# test_data.fillna(0, inplace=True)\n",
    "# 将特征列赋值给X，将目标列赋值给y\n",
    "X = train_data.drop(['target'], axis=1)\n",
    "y = train_data['target']\n",
    "# # 划分训练集和测试集\n",
    "# X_train, X_val, y_train, y_val = train_test_split(X_resampled, y_resampled, test_size=0.2, random_state=42)\n",
    "# X_train, y_train = X, y\n",
    "X_train, X_val, y_train, y_val = train_test_split(X, y, test_size=0.1, random_state=42)\n",
    "X_train, y_train = X, y\n",
    "train_data = pd.concat([X_train, y_train], axis=1)\n",
    "val_data = pd.concat([X_val, y_val], axis=1)\n",
    "# smote = SMOTE(random_state=42, n_jobs=-1)\n",
    "# from imblearn.over_sampling import BorderlineSMOTE\n",
    "# borderline_smote = BorderlineSMOTE(kind='borderline-1', random_state=42)\n",
    "# X_train, y_train = smote.fit_resample(X_train, y_train)\n",
    "# X_train, y_train = smote.fit_resample(X, y)\n",
    "# X_train, y_train = borderline_smote.fit_resample(X_train, y_train)"
   ]
  },
  {
   "cell_type": "code",
   "execution_count": 14,
   "metadata": {
    "ExecuteTime": {
     "end_time": "2023-08-23T01:55:07.694294800Z",
     "start_time": "2023-08-23T01:46:33.682025500Z"
    }
   },
   "outputs": [
    {
     "data": {
      "text/html": [
       "<style>#sk-container-id-1 {color: black;background-color: white;}#sk-container-id-1 pre{padding: 0;}#sk-container-id-1 div.sk-toggleable {background-color: white;}#sk-container-id-1 label.sk-toggleable__label {cursor: pointer;display: block;width: 100%;margin-bottom: 0;padding: 0.3em;box-sizing: border-box;text-align: center;}#sk-container-id-1 label.sk-toggleable__label-arrow:before {content: \"▸\";float: left;margin-right: 0.25em;color: #696969;}#sk-container-id-1 label.sk-toggleable__label-arrow:hover:before {color: black;}#sk-container-id-1 div.sk-estimator:hover label.sk-toggleable__label-arrow:before {color: black;}#sk-container-id-1 div.sk-toggleable__content {max-height: 0;max-width: 0;overflow: hidden;text-align: left;background-color: #f0f8ff;}#sk-container-id-1 div.sk-toggleable__content pre {margin: 0.2em;color: black;border-radius: 0.25em;background-color: #f0f8ff;}#sk-container-id-1 input.sk-toggleable__control:checked~div.sk-toggleable__content {max-height: 200px;max-width: 100%;overflow: auto;}#sk-container-id-1 input.sk-toggleable__control:checked~label.sk-toggleable__label-arrow:before {content: \"▾\";}#sk-container-id-1 div.sk-estimator input.sk-toggleable__control:checked~label.sk-toggleable__label {background-color: #d4ebff;}#sk-container-id-1 div.sk-label input.sk-toggleable__control:checked~label.sk-toggleable__label {background-color: #d4ebff;}#sk-container-id-1 input.sk-hidden--visually {border: 0;clip: rect(1px 1px 1px 1px);clip: rect(1px, 1px, 1px, 1px);height: 1px;margin: -1px;overflow: hidden;padding: 0;position: absolute;width: 1px;}#sk-container-id-1 div.sk-estimator {font-family: monospace;background-color: #f0f8ff;border: 1px dotted black;border-radius: 0.25em;box-sizing: border-box;margin-bottom: 0.5em;}#sk-container-id-1 div.sk-estimator:hover {background-color: #d4ebff;}#sk-container-id-1 div.sk-parallel-item::after {content: \"\";width: 100%;border-bottom: 1px solid gray;flex-grow: 1;}#sk-container-id-1 div.sk-label:hover label.sk-toggleable__label {background-color: #d4ebff;}#sk-container-id-1 div.sk-serial::before {content: \"\";position: absolute;border-left: 1px solid gray;box-sizing: border-box;top: 0;bottom: 0;left: 50%;z-index: 0;}#sk-container-id-1 div.sk-serial {display: flex;flex-direction: column;align-items: center;background-color: white;padding-right: 0.2em;padding-left: 0.2em;position: relative;}#sk-container-id-1 div.sk-item {position: relative;z-index: 1;}#sk-container-id-1 div.sk-parallel {display: flex;align-items: stretch;justify-content: center;background-color: white;position: relative;}#sk-container-id-1 div.sk-item::before, #sk-container-id-1 div.sk-parallel-item::before {content: \"\";position: absolute;border-left: 1px solid gray;box-sizing: border-box;top: 0;bottom: 0;left: 50%;z-index: -1;}#sk-container-id-1 div.sk-parallel-item {display: flex;flex-direction: column;z-index: 1;position: relative;background-color: white;}#sk-container-id-1 div.sk-parallel-item:first-child::after {align-self: flex-end;width: 50%;}#sk-container-id-1 div.sk-parallel-item:last-child::after {align-self: flex-start;width: 50%;}#sk-container-id-1 div.sk-parallel-item:only-child::after {width: 0;}#sk-container-id-1 div.sk-dashed-wrapped {border: 1px dashed gray;margin: 0 0.4em 0.5em 0.4em;box-sizing: border-box;padding-bottom: 0.4em;background-color: white;}#sk-container-id-1 div.sk-label label {font-family: monospace;font-weight: bold;display: inline-block;line-height: 1.2em;}#sk-container-id-1 div.sk-label-container {text-align: center;}#sk-container-id-1 div.sk-container {/* jupyter's `normalize.less` sets `[hidden] { display: none; }` but bootstrap.min.css set `[hidden] { display: none !important; }` so we also need the `!important` here to be able to override the default hidden behavior on the sphinx rendered scikit-learn.org. See: https://github.com/scikit-learn/scikit-learn/issues/21755 */display: inline-block !important;position: relative;}#sk-container-id-1 div.sk-text-repr-fallback {display: none;}</style><div id=\"sk-container-id-1\" class=\"sk-top-container\"><div class=\"sk-text-repr-fallback\"><pre>AdaBoostClassifier(estimator=RandomForestClassifier(criterion=&#x27;entropy&#x27;,\n",
       "                                                    max_depth=33,\n",
       "                                                    max_features=9,\n",
       "                                                    n_estimators=131,\n",
       "                                                    n_jobs=-1),\n",
       "                   learning_rate=0.3, n_estimators=5)</pre><b>In a Jupyter environment, please rerun this cell to show the HTML representation or trust the notebook. <br />On GitHub, the HTML representation is unable to render, please try loading this page with nbviewer.org.</b></div><div class=\"sk-container\" hidden><div class=\"sk-item sk-dashed-wrapped\"><div class=\"sk-label-container\"><div class=\"sk-label sk-toggleable\"><input class=\"sk-toggleable__control sk-hidden--visually\" id=\"sk-estimator-id-1\" type=\"checkbox\" ><label for=\"sk-estimator-id-1\" class=\"sk-toggleable__label sk-toggleable__label-arrow\">AdaBoostClassifier</label><div class=\"sk-toggleable__content\"><pre>AdaBoostClassifier(estimator=RandomForestClassifier(criterion=&#x27;entropy&#x27;,\n",
       "                                                    max_depth=33,\n",
       "                                                    max_features=9,\n",
       "                                                    n_estimators=131,\n",
       "                                                    n_jobs=-1),\n",
       "                   learning_rate=0.3, n_estimators=5)</pre></div></div></div><div class=\"sk-parallel\"><div class=\"sk-parallel-item\"><div class=\"sk-item\"><div class=\"sk-label-container\"><div class=\"sk-label sk-toggleable\"><input class=\"sk-toggleable__control sk-hidden--visually\" id=\"sk-estimator-id-2\" type=\"checkbox\" ><label for=\"sk-estimator-id-2\" class=\"sk-toggleable__label sk-toggleable__label-arrow\">estimator: RandomForestClassifier</label><div class=\"sk-toggleable__content\"><pre>RandomForestClassifier(criterion=&#x27;entropy&#x27;, max_depth=33, max_features=9,\n",
       "                       n_estimators=131, n_jobs=-1)</pre></div></div></div><div class=\"sk-serial\"><div class=\"sk-item\"><div class=\"sk-estimator sk-toggleable\"><input class=\"sk-toggleable__control sk-hidden--visually\" id=\"sk-estimator-id-3\" type=\"checkbox\" ><label for=\"sk-estimator-id-3\" class=\"sk-toggleable__label sk-toggleable__label-arrow\">RandomForestClassifier</label><div class=\"sk-toggleable__content\"><pre>RandomForestClassifier(criterion=&#x27;entropy&#x27;, max_depth=33, max_features=9,\n",
       "                       n_estimators=131, n_jobs=-1)</pre></div></div></div></div></div></div></div></div></div></div>"
      ],
      "text/plain": [
       "AdaBoostClassifier(estimator=RandomForestClassifier(criterion='entropy',\n",
       "                                                    max_depth=33,\n",
       "                                                    max_features=9,\n",
       "                                                    n_estimators=131,\n",
       "                                                    n_jobs=-1),\n",
       "                   learning_rate=0.3, n_estimators=5)"
      ]
     },
     "execution_count": 14,
     "metadata": {},
     "output_type": "execute_result"
    }
   ],
   "source": [
    "# from tabnanny import verbose\n",
    "import lightgbm as lgb\n",
    "from sklearn.linear_model import LogisticRegression\n",
    "from sklearn.tree import DecisionTreeClassifier\n",
    "from sklearn.ensemble import RandomForestClassifier, GradientBoostingClassifier\n",
    "# import xgboost as xgb\n",
    "# from xgboost import XGBClassifier, XGBRegressor\n",
    "from sklearn.model_selection import GridSearchCV\n",
    "import matplotlib.pyplot as plt\n",
    "from sklearn.ensemble import RandomForestClassifier, StackingClassifier, VotingClassifier\n",
    "from sklearn.neighbors import KNeighborsClassifier\n",
    "from sklearn.linear_model import LogisticRegression\n",
    "from sklearn.svm import SVC\n",
    "from sklearn.ensemble import AdaBoostClassifier\n",
    "from imblearn.ensemble import BalancedRandomForestClassifier\n",
    "from sklearn.ensemble import ExtraTreesClassifier\n",
    "\n",
    "# param_grid = {\n",
    "#     'learning_rate': [0.01, 0.05, 0.1],\n",
    "#     'n_estimators': [20, 40, 60],\n",
    "#     'max_depth': [5, 10, 15],\n",
    "#     'colsample_bytree': [0.7, 0.8, 0.9],\n",
    "#     'subsample': [0.7, 0.8, 0.9],\n",
    "# }\n",
    "# import joblib\n",
    "# clf = joblib.load('decision_tree_model.pkl')\n",
    "# clf = DecisionTreeClassifier(criterion=\"log_loss\", max_depth=12)\n",
    "\n",
    "# base_learners = [\n",
    "#     ('knn', KNeighborsClassifier(n_neighbors=2, n_jobs=-1)),\n",
    "#     (\"rf\", RandomForestClassifier(criterion=\"entropy\", n_jobs=-1, verbose=1, n_estimators=100)),\n",
    "#     (\"svm\", SVC(kernel='rbf', C=1)),\n",
    "#     ('dt', DecisionTreeClassifier(criterion=\"entropy\")),\n",
    "# ]\n",
    "# import joblib\n",
    "# clf = joblib.load('dt_model.pkl')\n",
    "# 定义模型\n",
    "# clf = RandomForestClassifier(n_estimators=1000, n_jobs=-1, verbose=1, criterion=\"entropy\", random_state=42, warm_start=True)\n",
    "# clf = GradientBoostingClassifier(n_estimators=1000, random_state=42, verbose=1, learning_rate=0.6)\n",
    "\n",
    "# clf = VotingClassifier(\n",
    "#     estimators=[('rf', rf_clf), ('old', old_clf)],\n",
    "#     voting='soft',  # 使用soft投票，这意味着预测的类概率会被平均\n",
    "#     verbose=True,\n",
    "# )\n",
    "\n",
    "# meta_learner = LogisticRegression(verbose=1)\n",
    "# clf = VotingClassifier(estimators=base_learners, voting='soft', weights=[0.1, 0.5, 0.3, 0.1], verbose=True)\n",
    "# clf = StackingClassifier(estimators=base_learners, verbose=1, n_jobs=-1, final_estimator=meta_learner, passthrough=True)\n",
    "# clf = XGBClassifier(\n",
    "#     objective='binary:logistic',  # 对于二分类问题\n",
    "#     n_estimators=2000,  # 使用100棵树\n",
    "#     learning_rate=0.3,\n",
    "#     max_depth=12,\n",
    "#     reg_alpha=0.1,\n",
    "#     reg_lambda=0.1,\n",
    "#     min_child_weight=3,\n",
    "# )\n",
    "# clf = AdaBoostClassifier(learning_rate=0.1, n_estimators=30, estimator=clf)\n",
    "# clf = SVC(kernel='rbf', C=1)\n",
    "# clf = RandomForestClassifier(criterion=\"log_loss\", n_jobs=-1, verbose=1, n_estimators=200)\n",
    "# clf = KNeighborsClassifier(n_neighbors=20, n_jobs=-1)\n",
    "# clf = BalancedRandomForestClassifier(n_jobs=-1, verbose=1, n_estimators=1000)\n",
    "# clf = ExtraTreesClassifier(n_estimators=1000, n_jobs=-1, verbose=1, bootstrap=True)\n",
    "best_params = {\n",
    "    'n_estimators': 300, \n",
    "    'max_depth': 21,\n",
    "    'min_samples_split': 3,\n",
    "    'min_samples_leaf': 5, \n",
    "    'max_features': 'log2',\n",
    "    'bootstrap': False,\n",
    "    'criterion': 'entropy'\n",
    "    # 其他参数取默认值\n",
    "}\n",
    "# clf = RandomForestClassifier(**best_params, n_jobs=-1)\n",
    "# clf = RandomForestClassifier(n_jobs=-1)\n",
    "clf = RandomForestClassifier(   \n",
    "        n_estimators=131,\n",
    "        max_depth=33,\n",
    "        n_jobs=-1,\n",
    "        max_features=9,\n",
    "        min_samples_leaf=1,\n",
    "        min_samples_split=2,\n",
    "        criterion = 'entropy'\n",
    ")\n",
    "clf = AdaBoostClassifier(learning_rate=0.3, n_estimators=5, estimator=clf)\n",
    "clf.fit(\n",
    "    train_data.drop(['target'], axis=1),\n",
    "    train_data['target'],\n",
    "\n",
    ")\n",
    "# import lime\n",
    "# import lime.lime_tabular\n",
    "# # 创建LIME解释器\n",
    "# explainer = lime.lime_tabular.LimeTabularExplainer(np.array(X_train), training_labels=np.array(y_train), class_names=[0,1], discretize_continuous=True, feature_names=X_train.columns)\n",
    "\n",
    "# # 解释一个实例\n",
    "# i = np.random.randint(0, X_val.shape[0])\n",
    "# exp = explainer.explain_instance(np.array(X_val)[i], clf.predict_proba, num_features=len(X_train.columns))\n",
    "# exp.show_in_notebook(show_table=True, show_all=False)\n",
    "# def adjust_learning_rate(env):\n",
    "#     # 获取训练损失值\n",
    "#     current_loss = env.evaluation_result_list[-1][1]\n",
    "#     if current_loss > threshold_high:\n",
    "#         env.model.set_param('eta', higher_learning_rate)\n",
    "#     elif current_loss < threshold_low1:\n",
    "#         env.model.set_param('eta', lower_learning_rate1)\n",
    "#     else:\n",
    "#         env.model.set_param('eta', lower_learning_rate2)\n",
    "# dtrain = xgb.DMatrix(X_train, label=y_train)\n",
    "# dval = xgb.DMatrix(X_val, label=y_val)\n",
    "# params = {\n",
    "#     'learning_rate': 0.01,\n",
    "#     'max_depth': 12,\n",
    "#     'min_child_weight': 1,\n",
    "#     'gamma': 0.1,\n",
    "\n",
    "#     'objective': 'binary:logistic',\n",
    "#     'scale_pos_weight': 6.11,\n",
    "#     'nthread': -1,\n",
    "#     'booster': 'gbtree',\n",
    "#     'verbosity': 1,\n",
    "#     'n_estimators': 200\n",
    "# }\n",
    "# clf = xgb.Booster()\n",
    "# clf.load_model('0001.model')\n",
    "\n",
    "# # 设置损失阈值和学习率\n",
    "# threshold_high = 0.3\n",
    "# threshold_low1 = 0.2\n",
    "# higher_learning_rate = 0.5\n",
    "# lower_learning_rate1 = 0.3\n",
    "# lower_learning_rate2 = 0.2\n",
    "# clf = xgb.train(params, dtrain, num_boost_round=400, early_stopping_rounds=10, evals=[(dval, 'val')], verbose_eval=True, xgb_model=clf)\n",
    "# clf = xgb.train(params, dtrain, num_boost_round=100, early_stopping_rounds=30, evals=[(dval, 'val')], verbose_eval=True)\n",
    "# xgb.plot_importance(clf)features = X_train.columns"
   ]
  },
  {
   "cell_type": "code",
   "execution_count": 15,
   "metadata": {
    "ExecuteTime": {
     "end_time": "2023-08-23T01:55:08.549768800Z",
     "start_time": "2023-08-23T01:55:07.687272400Z"
    },
    "collapsed": false
   },
   "outputs": [
    {
     "data": {
      "image/png": "[encoded data removed]",
      "text/plain": [
       "<Figure size 1000x1000 with 1 Axes>"
      ]
     },
     "metadata": {},
     "output_type": "display_data"
    }
   ],
   "source": [
    "features = X_train.columns\n",
    "importances = clf.feature_importances_\n",
    "# 对重要性进行排序并获取索引\n",
    "indices = np.argsort(importances)\n",
    "\n",
    "# 绘制特征重要性\n",
    "plt.figure(figsize=(10, 10))\n",
    "plt.title(\"Feature Importances\")\n",
    "plt.barh(np.array(features)[indices], importances[indices], align=\"center\")\n",
    "plt.xlabel('Importance')\n",
    "plt.ylabel('Features')\n",
    "plt.show()"
   ]
  },
  {
   "cell_type": "code",
   "execution_count": 16,
   "metadata": {
    "ExecuteTime": {
     "end_time": "2023-08-23T01:55:08.549768800Z",
     "start_time": "2023-08-23T01:55:08.540511600Z"
    }
   },
   "outputs": [],
   "source": [
    "# import lightgbm as lgb\n",
    "\n",
    "# # 创建数据集\n",
    "# train_data = lgb.Dataset(X_train, label=y_train)\n",
    "# val_data = lgb.Dataset(X_val, label=y_val, reference=train_data)\n",
    "\n",
    "# # 设置参数\n",
    "# params = {\n",
    "#     'objective': 'binary',\n",
    "#     'metric': 'binary_logloss',\n",
    "#     'boosting_type': 'gbdt',\n",
    "#     'num_threads': -1,\n",
    "#     'force_row_wise': True,\n",
    "#     'learning_rate': 0.001,\n",
    "\n",
    "# }\n",
    "\n",
    "# # 训练模型\n",
    "# num_round = 200000\n",
    "# clf = lgb.train(params, train_data, num_boost_round=num_round, valid_sets=[val_data], early_stopping_rounds=30)\n"
   ]
  },
  {
   "cell_type": "code",
   "execution_count": 17,
   "metadata": {
    "ExecuteTime": {
     "end_time": "2023-08-23T01:55:21.087847700Z",
     "start_time": "2023-08-23T01:55:08.553139600Z"
    }
   },
   "outputs": [],
   "source": [
    "# pd.DataFrame({\n",
    "#     'uuid': test_uuid,\n",
    "#     'target': clf.predict(test_data)\n",
    "# }).to_csv('result.csv', index=None)\n",
    "# dtest = xgb.DMatrix(test_data)\n",
    "# y_pred = clf.predict(dtest)\n",
    "y_pred = clf.predict(test_data)\n",
    "pd.DataFrame({\n",
    "    'uuid': test_uuid,\n",
    "    'target': [1 if pred > 0.5 else 0 for pred in y_pred]\n",
    "}).to_csv('result.csv', index=None)"
   ]
  },
  {
   "cell_type": "code",
   "execution_count": 18,
   "metadata": {
    "ExecuteTime": {
     "end_time": "2023-08-23T01:55:24.965993600Z",
     "start_time": "2023-08-23T01:55:21.088847900Z"
    }
   },
   "outputs": [
    {
     "data": {
      "text/plain": [
       "['adaboost_model.pkl']"
      ]
     },
     "execution_count": 18,
     "metadata": {},
     "output_type": "execute_result"
    }
   ],
   "source": [
    "import joblib\n",
    "\n",
    "# # 保存模型\n",
    "# # 保存模型到文件\n",
    "joblib.dump(clf, 'adaboost_model.pkl')\n",
    "# clf.save_model('lgb_model.txt')\n",
    "# clf.save_model('0001.model')"
   ]
  },
  {
   "cell_type": "code",
   "execution_count": 19,
   "metadata": {
    "ExecuteTime": {
     "end_time": "2023-08-23T01:55:28.598996800Z",
     "start_time": "2023-08-23T01:55:24.968994500Z"
    }
   },
   "outputs": [
    {
     "name": "stdout",
     "output_type": "stream",
     "text": [
      "Accuracy: 0.9962441163195563\n",
      "F1 score: 0.9865837507917314\n"
     ]
    }
   ],
   "source": [
    "# import joblib\n",
    "\n",
    "# clf = joblib.load('new_model.pkl')\n",
    "# clf = xgb.Booster()\n",
    "# clf.load_model('xgboost_model.model')\n",
    "# conf_thres = 0.5\n",
    "# 在测试集上进行预测\n",
    "# y_pred = clf.predict(dval)\n",
    "y_pred = clf.predict(X_val)\n",
    "y_pred = [1 if pred > 0.5 else 0 for pred in y_pred]\n",
    "# 计算准确率\n",
    "accuracy = accuracy_score(y_val, y_pred)\n",
    "print(\"Accuracy:\", accuracy)\n",
    "\n",
    "# 计算F1分数\n",
    "f1 = f1_score(y_val, y_pred)\n",
    "print(\"F1 score:\", f1)"
   ]
  }
 ],
 "metadata": {
  "kernelspec": {
   "display_name": "badnets",
   "language": "python",
   "name": "python3"
  },
  "language_info": {
   "codemirror_mode": {
    "name": "ipython",
    "version": 3
   },
   "file_extension": ".py",
   "mimetype": "text/x-python",
   "name": "python",
   "nbconvert_exporter": "python",
   "pygments_lexer": "ipython3",
   "version": "3.8.10"
  },
  "orig_nbformat": 4
 },
 "nbformat": 4,
 "nbformat_minor": 2
}
