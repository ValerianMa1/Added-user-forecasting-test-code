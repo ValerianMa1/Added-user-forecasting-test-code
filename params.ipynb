{
 "cells": [
  {
   "cell_type": "code",
   "execution_count": 8,
   "metadata": {},
   "outputs": [],
   "source": [
    "import pandas as pd\n",
    "import numpy as np\n",
    "from sklearn.model_selection import train_test_split\n",
    "from sklearn.metrics import accuracy_score\n",
    "from sklearn.metrics import f1_score\n",
    "from scipy.stats import mode, skew, entropy\n",
    "from sklearn.model_selection import RandomizedSearchCV, cross_val_score\n",
    "from sklearn.ensemble import RandomForestClassifier\n",
    "from scipy.stats import uniform, randint\n",
    "from sklearn.model_selection import KFold\n",
    "\n"
   ]
  },
  {
   "cell_type": "code",
   "execution_count": 9,
   "metadata": {},
   "outputs": [],
   "source": [
    "train_data = pd.read_csv('train.csv')\n",
    "test_data = pd.read_csv('test.csv')\n",
    "train_data['ms'] = train_data['common_ts']\n",
    "test_data['ms'] = test_data['common_ts']\n",
    "train_data['common_ts'] = pd.to_datetime(train_data['common_ts'], unit='ms')\n",
    "test_data['common_ts'] = pd.to_datetime(test_data['common_ts'], unit='ms')\n",
    "\n",
    "\n",
    "train_data['x_mean'] = train_data[['x' + str(i) for i in range(1, 9)]].mean(axis=1)\n",
    "train_data['x_std'] = train_data[['x' + str(i) for i in range(1, 9)]].std(axis=1)\n",
    "test_data['x_mean'] = test_data[['x' + str(i) for i in range(1, 9)]].mean(axis=1)\n",
    "test_data['x_std'] = test_data[['x' + str(i) for i in range(1, 9)]].std(axis=1)\n",
    "\n",
    "\n",
    "train_data['x_Q1'] = train_data[['x' + str(i) for i in range(1, 9)]].quantile(0.25, axis=1)\n",
    "test_data['x_Q1'] = test_data[['x' + str(i) for i in range(1, 9)]].quantile(0.25, axis=1)\n",
    "train_data['x_Q3'] = train_data[['x' + str(i) for i in range(1, 9)]].quantile(0.75, axis=1)\n",
    "test_data['x_Q3'] = test_data[['x' + str(i) for i in range(1, 9)]].quantile(0.75, axis=1)\n",
    "train_data['x_skew'] = train_data[['x' + str(i) for i in range(1, 9)]].skew(axis=1)\n",
    "test_data['x_skew'] = test_data[['x' + str(i) for i in range(1, 9)]].skew(axis=1)\n",
    "\n",
    "train_data['x_CV'] = train_data['x_std'] / train_data['x_mean']\n",
    "test_data['x_CV'] = test_data['x_std'] / test_data['x_mean']"
   ]
  },
  {
   "cell_type": "code",
   "execution_count": 10,
   "metadata": {},
   "outputs": [],
   "source": [
    "train_data = train_data.drop('eid', axis=1)\n",
    "test_data = test_data.drop('eid', axis=1)"
   ]
  },
  {
   "cell_type": "code",
   "execution_count": 11,
   "metadata": {},
   "outputs": [],
   "source": [
    "train_data['common_ts_weekday'] = train_data['common_ts'].dt.weekday\n",
    "train_data['common_ts_day'] = train_data['common_ts'].dt.day\n",
    "train_data['common_ts_hour'] = train_data['common_ts'].dt.hour\n",
    "test_data['common_ts_weekday'] = test_data['common_ts'].dt.weekday\n",
    "test_data['common_ts_day'] = test_data['common_ts'].dt.day\n",
    "test_data['common_ts_hour'] = test_data['common_ts'].dt.hour\n",
    "train_data = train_data.drop(['udmap', 'common_ts', 'uuid'], axis=1)\n",
    "test_data = test_data.drop(['udmap', 'common_ts'], axis=1)\n",
    "# 将特征列赋值给X，将目标列赋值给y\n",
    "X = train_data.drop(['target'], axis=1)\n",
    "y = train_data['target']\n",
    "# smote = SMOTE()\n",
    "# X_resampled, y_resampled = smote.fit_resample(X, y)\n",
    "# # 划分训练集和测试集\n",
    "# X_train, X_val, y_train, y_val = train_test_split(X_resampled, y_resampled, test_size=0.2, random_state=42)\n",
    "X_train, X_val, y_train, y_val = train_test_split(X, y, test_size=0.1, random_state=42)\n",
    "train_data = pd.concat([X_train, y_train], axis=1)\n",
    "val_data = pd.concat([X_val, y_val], axis=1)"
   ]
  },
  {
   "cell_type": "code",
   "execution_count": null,
   "metadata": {},
   "outputs": [],
   "source": [
    "# 导入所需库\n",
    "from sklearn.ensemble import RandomForestClassifier\n",
    "from sklearn.metrics import accuracy_score\n",
    "from hyperopt import fmin, tpe, hp\n",
    "\n",
    "\n",
    "STATUS_OK = 'ok'\n",
    "# 随机森林默认参数\n",
    "default_params = {\n",
    "    'n_estimators': 100,\n",
    "    'criterion': \"gini\",\n",
    "    'max_depth': None, \n",
    "    'min_samples_split': 2,\n",
    "    'min_samples_leaf': 1,\n",
    "    'min_weight_fraction_leaf': 0.0,\n",
    "    'max_features': \"sqrt\",\n",
    "    'max_leaf_nodes': None, \n",
    "    'min_impurity_decrease': 0.0,\n",
    "    'bootstrap': True,\n",
    "    'oob_score': False\n",
    "}\n",
    "\n",
    "# 定义优化函数\n",
    "def rf_optimize(params):\n",
    "    params.update(default_params) # 合并默认参数\n",
    "    rf = RandomForestClassifier(**params)\n",
    "    rf.fit(X, y)\n",
    "    pred = rf.predict(X_val)\n",
    "    acc = accuracy_score(y_val, pred)\n",
    "    return {'loss': -acc, 'status': STATUS_OK}\n",
    "\n",
    "# 定义搜索空间\n",
    "space = {\n",
    "    'n_estimators': hp.choice('n_estimators', [100, 150, 200, 300]),  \n",
    "    'max_depth': hp.randint('max_depth', 10, 30),\n",
    "    'min_samples_split': hp.uniform('min_samples_split', 0.5, 5), \n",
    "    'min_samples_leaf': hp.uniform('min_samples_leaf', 0.5, 5),\n",
    "    'max_features': hp.choice('max_features', ['sqrt', 'log2']), \n",
    "    'bootstrap': hp.choice('bootstrap', [True, False]),\n",
    "    'max_leaf_nodes': hp.randint('max_leaf_nodes', 16, 256),\n",
    "    'min_impurity_decrease': hp.uniform('min_impurity_decrease', 0, 0.5),\n",
    "    'criterion': hp.choice('criterion', ['gini', 'entropy'])\n",
    "}\n",
    "# 使用TPE算法优化\n",
    "best = fmin(fn=rf_optimize, space=space, algo=tpe.suggest, max_evals=100)\n",
    "\n",
    "# 获取最优参数,输出结果\n",
    "print(best)"
   ]
  },
  {
   "cell_type": "code",
   "execution_count": null,
   "metadata": {},
   "outputs": [],
   "source": [
    "from hyperopt import space_eval\n",
    "best_params = space_eval(space, best)\n",
    "\n",
    "print(best_params)"
   ]
  },
  {
   "cell_type": "code",
   "execution_count": 40,
   "metadata": {},
   "outputs": [
    {
     "name": "stdout",
     "output_type": "stream",
     "text": [
      "0.9613823613698237 131\n",
      "Running time: 5530.6381804943085 Seconds\n"
     ]
    },
    {
     "data": {
      "image/png": "[encoded data removed]",
      "text/plain": [
       "<Figure size 2000x500 with 1 Axes>"
      ]
     },
     "metadata": {},
     "output_type": "display_data"
    }
   ],
   "source": [
    "from sklearn.tree import DecisionTreeClassifier\n",
    "from sklearn.ensemble import RandomForestClassifier\n",
    "from sklearn.model_selection import train_test_split\n",
    "from sklearn.model_selection import StratifiedShuffleSplit\n",
    "from sklearn.model_selection import cross_val_score\n",
    "from sklearn.model_selection import GridSearchCV\n",
    "import matplotlib.pyplot as plt\n",
    "import time\n",
    "data = train_data.iloc[:,:-1]\n",
    "lable = train_data.iloc[:,-1]\n",
    "start=time.time()\n",
    "scorel = []\n",
    "for i in range(0,200,10): # 迭代建立包含0-200棵决策树的RF模型进行对比\n",
    "  rfc = RandomForestClassifier(n_estimators=i+1,n_jobs=-1,random_state=90)\n",
    "  score = cross_val_score(rfc,data,lable,cv=10).mean()\n",
    "  scorel.append(score)\n",
    "print(max(scorel),(scorel.index(max(scorel))*10)+1)\n",
    "end=time.time()\n",
    "print('Running time: %s Seconds'%(end-start))\n",
    "plt.figure(figsize=[20,5])\n",
    "plt.plot(range(1,201,10),scorel)\n",
    "plt.show()"
   ]
  },
  {
   "cell_type": "code",
   "execution_count": 15,
   "metadata": {},
   "outputs": [
    {
     "name": "stdout",
     "output_type": "stream",
     "text": [
      "{'max_depth': 33}\n",
      "0.9614808711849836\n",
      "Running time: 4008.5140051841736 Seconds\n"
     ]
    }
   ],
   "source": [
    "from sklearn.tree import DecisionTreeClassifier\n",
    "from sklearn.ensemble import RandomForestClassifier\n",
    "from sklearn.model_selection import train_test_split\n",
    "from sklearn.model_selection import StratifiedShuffleSplit\n",
    "from sklearn.model_selection import cross_val_score\n",
    "from sklearn.model_selection import GridSearchCV\n",
    "import matplotlib.pyplot as plt\n",
    "import time\n",
    "\n",
    "data = train_data.iloc[:,:-1]\n",
    "lable = train_data.iloc[:,-1]\n",
    "\n",
    "start=time.time()\n",
    "param_grid = {'max_depth':np.arange(19, 40, 2)} \n",
    "alg = RandomForestClassifier(n_estimators=131,random_state=1,n_jobs = -1) \n",
    "GS = GridSearchCV(alg,param_grid,cv=10) \n",
    "GS.fit(data,lable)\n",
    "print(GS.best_params_)\n",
    "print(GS.best_score_)\n",
    "end=time.time()\n",
    "print('Running time: %s Seconds'%(end-start))"
   ]
  },
  {
   "cell_type": "code",
   "execution_count": null,
   "metadata": {},
   "outputs": [],
   "source": [
    "numbers = [5,6,7,8,9,10,11,12,13,14,15,16,17,18,19]\n",
    "for number in numbers:\n",
    "    clf = RandomForestClassifier(n_jobs=-1,\n",
    "                                 n_estimators=131,\n",
    "                                 max_depth=33,\n",
    "                                 max_features=number)\n",
    "    clf.fit(\n",
    "        train_data.drop(['target'], axis=1),\n",
    "        train_data['target']\n",
    "    )\n",
    "    y_pred = clf.predict(X_val)\n",
    "\n",
    "    # 计算准确率\n",
    "    accuracy = accuracy_score(y_val, y_pred)\n",
    "    print(\"Accuracy:\", accuracy,number)\n",
    "    \n",
    "    # 计算F1分数\n",
    "    f1 = f1_score(y_val, y_pred)\n",
    "    print(\"F1 score:\", f1,number) "
   ]
  }
 ],
 "metadata": {
  "kernelspec": {
   "display_name": "py3810",
   "language": "python",
   "name": "python3"
  },
  "language_info": {
   "codemirror_mode": {
    "name": "ipython",
    "version": 3
   },
   "file_extension": ".py",
   "mimetype": "text/x-python",
   "name": "python",
   "nbconvert_exporter": "python",
   "pygments_lexer": "ipython3",
   "version": "3.8.10"
  },
  "orig_nbformat": 4
 },
 "nbformat": 4,
 "nbformat_minor": 2
}
